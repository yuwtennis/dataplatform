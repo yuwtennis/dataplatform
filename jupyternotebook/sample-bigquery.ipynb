{
 "cells": [
  {
   "cell_type": "code",
   "execution_count": 9,
   "metadata": {},
   "outputs": [
    {
     "data": {
      "text/plain": [
       "<matplotlib.axes._subplots.AxesSubplot at 0x7f552c5bd6d8>"
      ]
     },
     "execution_count": 9,
     "metadata": {},
     "output_type": "execute_result"
    },
    {
     "data": {
      "image/png": "[encoded data removed]",
      "text/plain": [
       "<matplotlib.figure.Figure at 0x7f552c627940>"
      ]
     },
     "metadata": {},
     "output_type": "display_data"
    }
   ],
   "source": [
    "from google.cloud import bigquery\n",
    "import pandas\n",
    "\n",
    "query=\"\"\"\n",
    "SELECT\n",
    "  plurality,\n",
    "  AVG(weight_pounds) as avg_weight\n",
    "FROM `bigquery-public-data.samples.natality`\n",
    "WHERE \n",
    "  source_year <= 2000 \n",
    "  AND \n",
    "  plurality IS NOT NULL\n",
    "GROUP BY plurality\n",
    "ORDER BY plurality\n",
    "\"\"\"\n",
    "\n",
    "def exec_query( query ):\n",
    "\n",
    "    # Create bigquery instance\n",
    "    client = bigquery.Client()\n",
    "\n",
    "    # Prepare job\n",
    "    job = client.query( query )\n",
    "    \n",
    "    # Execute job\n",
    "    return job.result()\n",
    "       \n",
    "#result = exec_query(query)\n",
    "\n",
    "df = pandas.read_gbq(query, project_id=\"elite-caster-125113\",dialect=\"standard\")\n",
    "\n",
    "df.plot(x=\"plurality\", y=\"avg_weight\", kind=\"bar\")"
   ]
  },
  {
   "cell_type": "code",
   "execution_count": null,
   "metadata": {},
   "outputs": [],
   "source": []
  },
  {
   "cell_type": "code",
   "execution_count": null,
   "metadata": {},
   "outputs": [],
   "source": []
  }
 ],
 "metadata": {
  "kernelspec": {
   "display_name": "Python 3",
   "language": "python",
   "name": "python3"
  },
  "language_info": {
   "codemirror_mode": {
    "name": "ipython",
    "version": 3
   },
   "file_extension": ".py",
   "mimetype": "text/x-python",
   "name": "python",
   "nbconvert_exporter": "python",
   "pygments_lexer": "ipython3",
   "version": "3.6.4"
  }
 },
 "nbformat": 4,
 "nbformat_minor": 2
}
